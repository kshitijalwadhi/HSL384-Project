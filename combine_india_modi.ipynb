{
 "cells": [
  {
   "cell_type": "code",
   "execution_count": 112,
   "metadata": {},
   "outputs": [],
   "source": [
    "import pandas as pd\n",
    "from langdetect import detect\n",
    "from langdetect.lang_detect_exception import LangDetectException"
   ]
  },
  {
   "cell_type": "code",
   "execution_count": 113,
   "metadata": {},
   "outputs": [],
   "source": [
    "def get_month(month):\n",
    "    month = month.lower()\n",
    "    if month == \"january\" or month == \"jan\":\n",
    "        return \"01\"\n",
    "    elif month == \"february\" or month == \"feb\":\n",
    "        return \"02\"\n",
    "    elif month == \"march\" or month == \"mar\":\n",
    "        return \"03\"\n",
    "    elif month == \"april\" or month == \"apr\":\n",
    "        return \"04\"\n",
    "    elif month == \"may\":\n",
    "        return \"05\"\n",
    "    elif month == \"june\" or month == \"jun\":\n",
    "        return \"06\"\n",
    "    elif month == \"july\" or month == \"jul\":\n",
    "        return \"07\"\n",
    "    elif month == \"august\" or month == \"aug\":\n",
    "        return \"08\"\n",
    "    elif month == \"september\" or month == \"sep\":\n",
    "        return \"09\"\n",
    "    elif month == \"october\" or month == \"oct\":\n",
    "        return \"10\"\n",
    "    elif month == \"november\" or month == \"nov\":\n",
    "        return \"11\"\n",
    "    elif month == \"december\" or month == \"dec\":\n",
    "        return \"12\"\n",
    "    else:\n",
    "        return \"01\"\n",
    "\n",
    "\n",
    "def parse_date(date):\n",
    "    month = date.split(\" \")[0]\n",
    "    day = date.split(\" \")[1].split(\",\")[0]\n",
    "    year = date.split(\" \")[2]\n",
    "\n",
    "    month = get_month(month)\n",
    "    day = day.zfill(2)\n",
    "\n",
    "    return f\"{day}/{month}/{year}\""
   ]
  },
  {
   "cell_type": "code",
   "execution_count": 114,
   "metadata": {},
   "outputs": [],
   "source": [
    "df1 = pd.read_csv('data/india/modi_speeches.csv')\n",
    "df2 = pd.read_csv('data/india/PM_Modi_speeches.csv')"
   ]
  },
  {
   "cell_type": "code",
   "execution_count": 115,
   "metadata": {},
   "outputs": [],
   "source": [
    "publish_info = df1['publish_info'].str.split('|')\n",
    "dates = []\n",
    "for i in range(len(publish_info)):\n",
    "    dates.append(publish_info[i][1].strip())\n",
    "df1[\"date\"] = dates"
   ]
  },
  {
   "cell_type": "code",
   "execution_count": 116,
   "metadata": {},
   "outputs": [],
   "source": [
    "df1[\"lang\"] = df1[\"article_text\"].apply(lambda x: detect(x))"
   ]
  },
  {
   "cell_type": "code",
   "execution_count": 117,
   "metadata": {},
   "outputs": [],
   "source": [
    "df1 = df1[df1[\"lang\"] == \"en\"]\n",
    "df2 = df2[df2[\"lang\"] == \"en\"]"
   ]
  },
  {
   "cell_type": "code",
   "execution_count": 118,
   "metadata": {},
   "outputs": [],
   "source": [
    "df2.rename(columns={\"text\":\"article_text\"}, inplace=True)"
   ]
  },
  {
   "cell_type": "code",
   "execution_count": 119,
   "metadata": {},
   "outputs": [],
   "source": [
    "df1 = df1[[\"url\", \"title\", \"date\", \"article_text\"]]"
   ]
  },
  {
   "cell_type": "code",
   "execution_count": 120,
   "metadata": {},
   "outputs": [],
   "source": [
    "df2 = df2[[\"url\", \"title\", \"date\", \"article_text\"]]"
   ]
  },
  {
   "cell_type": "code",
   "execution_count": 121,
   "metadata": {},
   "outputs": [],
   "source": [
    "df1[\"date\"] = df1[\"date\"].apply(parse_date)\n",
    "df2[\"date\"] = df2[\"date\"].apply(parse_date)"
   ]
  },
  {
   "cell_type": "code",
   "execution_count": 124,
   "metadata": {},
   "outputs": [],
   "source": [
    "df1[\"date\"] = pd.to_datetime(df1[\"date\"], format=\"%d/%m/%Y\")\n",
    "df2[\"date\"] = pd.to_datetime(df2[\"date\"], format=\"%d/%m/%Y\")"
   ]
  },
  {
   "cell_type": "code",
   "execution_count": 131,
   "metadata": {},
   "outputs": [],
   "source": [
    "# sort by date\n",
    "df1 = df1.sort_values(by=\"date\")"
   ]
  },
  {
   "cell_type": "code",
   "execution_count": 132,
   "metadata": {},
   "outputs": [
    {
     "data": {
      "text/html": [
       "<div>\n",
       "<style scoped>\n",
       "    .dataframe tbody tr th:only-of-type {\n",
       "        vertical-align: middle;\n",
       "    }\n",
       "\n",
       "    .dataframe tbody tr th {\n",
       "        vertical-align: top;\n",
       "    }\n",
       "\n",
       "    .dataframe thead th {\n",
       "        text-align: right;\n",
       "    }\n",
       "</style>\n",
       "<table border=\"1\" class=\"dataframe\">\n",
       "  <thead>\n",
       "    <tr style=\"text-align: right;\">\n",
       "      <th></th>\n",
       "      <th>url</th>\n",
       "      <th>title</th>\n",
       "      <th>date</th>\n",
       "      <th>article_text</th>\n",
       "    </tr>\n",
       "  </thead>\n",
       "  <tbody>\n",
       "    <tr>\n",
       "      <th>987</th>\n",
       "      <td>https://www.narendramodi.in/text-of-pm-modi-s-...</td>\n",
       "      <td>Ugadi is the festival of beginning of human ci...</td>\n",
       "      <td>2018-03-17</td>\n",
       "      <td>The Reverend Shri Shail Jagadguru Mahaswami Ji...</td>\n",
       "    </tr>\n",
       "    <tr>\n",
       "      <th>986</th>\n",
       "      <td>https://www.narendramodi.in/entire-world-sees-...</td>\n",
       "      <td>Entire world sees India with great respect tod...</td>\n",
       "      <td>2018-03-25</td>\n",
       "      <td>My dear countrymen, Namaskar. Today is the hol...</td>\n",
       "    </tr>\n",
       "    <tr>\n",
       "      <th>985</th>\n",
       "      <td>https://www.narendramodi.in/text-of-pm-modi-s-...</td>\n",
       "      <td>Rajya Sabha plays a vital role in our democrac...</td>\n",
       "      <td>2018-03-28</td>\n",
       "      <td>The Honourable chairman,\\nThe august house,\\nI...</td>\n",
       "    </tr>\n",
       "    <tr>\n",
       "      <th>984</th>\n",
       "      <td>https://www.narendramodi.in/text-of-pm-modi-s-...</td>\n",
       "      <td>PM Modi’s address at Silver Jubilee Celebratio...</td>\n",
       "      <td>2018-03-30</td>\n",
       "      <td>My greetings to the elderly, mothers and siste...</td>\n",
       "    </tr>\n",
       "    <tr>\n",
       "      <th>983</th>\n",
       "      <td>https://www.narendramodi.in/text-of-pm-modi-s-...</td>\n",
       "      <td>Innovation has the power to overcome the chall...</td>\n",
       "      <td>2018-03-30</td>\n",
       "      <td>Even at 8 - 8.30 in the evening, the youngster...</td>\n",
       "    </tr>\n",
       "  </tbody>\n",
       "</table>\n",
       "</div>"
      ],
      "text/plain": [
       "                                                   url  \\\n",
       "987  https://www.narendramodi.in/text-of-pm-modi-s-...   \n",
       "986  https://www.narendramodi.in/entire-world-sees-...   \n",
       "985  https://www.narendramodi.in/text-of-pm-modi-s-...   \n",
       "984  https://www.narendramodi.in/text-of-pm-modi-s-...   \n",
       "983  https://www.narendramodi.in/text-of-pm-modi-s-...   \n",
       "\n",
       "                                                 title       date  \\\n",
       "987  Ugadi is the festival of beginning of human ci... 2018-03-17   \n",
       "986  Entire world sees India with great respect tod... 2018-03-25   \n",
       "985  Rajya Sabha plays a vital role in our democrac... 2018-03-28   \n",
       "984  PM Modi’s address at Silver Jubilee Celebratio... 2018-03-30   \n",
       "983  Innovation has the power to overcome the chall... 2018-03-30   \n",
       "\n",
       "                                          article_text  \n",
       "987  The Reverend Shri Shail Jagadguru Mahaswami Ji...  \n",
       "986  My dear countrymen, Namaskar. Today is the hol...  \n",
       "985  The Honourable chairman,\\nThe august house,\\nI...  \n",
       "984  My greetings to the elderly, mothers and siste...  \n",
       "983  Even at 8 - 8.30 in the evening, the youngster...  "
      ]
     },
     "execution_count": 132,
     "metadata": {},
     "output_type": "execute_result"
    }
   ],
   "source": [
    "df1.head()"
   ]
  },
  {
   "cell_type": "code",
   "execution_count": 137,
   "metadata": {},
   "outputs": [
    {
     "data": {
      "text/html": [
       "<div>\n",
       "<style scoped>\n",
       "    .dataframe tbody tr th:only-of-type {\n",
       "        vertical-align: middle;\n",
       "    }\n",
       "\n",
       "    .dataframe tbody tr th {\n",
       "        vertical-align: top;\n",
       "    }\n",
       "\n",
       "    .dataframe thead th {\n",
       "        text-align: right;\n",
       "    }\n",
       "</style>\n",
       "<table border=\"1\" class=\"dataframe\">\n",
       "  <thead>\n",
       "    <tr style=\"text-align: right;\">\n",
       "      <th></th>\n",
       "      <th>url</th>\n",
       "      <th>title</th>\n",
       "      <th>date</th>\n",
       "      <th>article_text</th>\n",
       "    </tr>\n",
       "  </thead>\n",
       "  <tbody>\n",
       "    <tr>\n",
       "      <th>0</th>\n",
       "      <td>https://www.pmindia.gov.in/en/news_updates/pms...</td>\n",
       "      <td>PM’s address in the 15th Episode of ‘Mann Ki B...</td>\n",
       "      <td>2020-08-30</td>\n",
       "      <td>My dear countrymen, Namaskar.\\nGenerally, this...</td>\n",
       "    </tr>\n",
       "    <tr>\n",
       "      <th>1</th>\n",
       "      <td>https://www.pmindia.gov.in/en/news_updates/pms...</td>\n",
       "      <td>PM’s address at inauguration of the College an...</td>\n",
       "      <td>2020-08-29</td>\n",
       "      <td>Our country’s Agriculture Minister Shri Narend...</td>\n",
       "    </tr>\n",
       "    <tr>\n",
       "      <th>2</th>\n",
       "      <td>https://www.pmindia.gov.in/en/news_updates/pms...</td>\n",
       "      <td>PM’s address at seminar on Atmanirbhar Bharat ...</td>\n",
       "      <td>2020-08-27</td>\n",
       "      <td>My cabinet colleague, Shri Rajnath ji, Chief o...</td>\n",
       "    </tr>\n",
       "    <tr>\n",
       "      <th>3</th>\n",
       "      <td>https://www.pmindia.gov.in/en/news_updates/pms...</td>\n",
       "      <td>PM’s address to the Nation from the ramparts o...</td>\n",
       "      <td>2020-08-15</td>\n",
       "      <td>My dear countrymen,\\nCongratulations and many ...</td>\n",
       "    </tr>\n",
       "    <tr>\n",
       "      <th>4</th>\n",
       "      <td>https://www.pmindia.gov.in/en/news_updates/pms...</td>\n",
       "      <td>PM’s address at the Launch of ‘Transparent Tax...</td>\n",
       "      <td>2020-08-13</td>\n",
       "      <td>The process of Structural Reforms going on in ...</td>\n",
       "    </tr>\n",
       "  </tbody>\n",
       "</table>\n",
       "</div>"
      ],
      "text/plain": [
       "                                                 url  \\\n",
       "0  https://www.pmindia.gov.in/en/news_updates/pms...   \n",
       "1  https://www.pmindia.gov.in/en/news_updates/pms...   \n",
       "2  https://www.pmindia.gov.in/en/news_updates/pms...   \n",
       "3  https://www.pmindia.gov.in/en/news_updates/pms...   \n",
       "4  https://www.pmindia.gov.in/en/news_updates/pms...   \n",
       "\n",
       "                                               title       date  \\\n",
       "0  PM’s address in the 15th Episode of ‘Mann Ki B... 2020-08-30   \n",
       "1  PM’s address at inauguration of the College an... 2020-08-29   \n",
       "2  PM’s address at seminar on Atmanirbhar Bharat ... 2020-08-27   \n",
       "3  PM’s address to the Nation from the ramparts o... 2020-08-15   \n",
       "4  PM’s address at the Launch of ‘Transparent Tax... 2020-08-13   \n",
       "\n",
       "                                        article_text  \n",
       "0  My dear countrymen, Namaskar.\\nGenerally, this...  \n",
       "1  Our country’s Agriculture Minister Shri Narend...  \n",
       "2  My cabinet colleague, Shri Rajnath ji, Chief o...  \n",
       "3  My dear countrymen,\\nCongratulations and many ...  \n",
       "4  The process of Structural Reforms going on in ...  "
      ]
     },
     "execution_count": 137,
     "metadata": {},
     "output_type": "execute_result"
    }
   ],
   "source": [
    "df2.head()"
   ]
  },
  {
   "cell_type": "code",
   "execution_count": 143,
   "metadata": {},
   "outputs": [],
   "source": [
    "# df1 where date is \"2020-08-30\"\n",
    "df1_extra = df1[df1[\"date\"] > \"2020-08-30\"]\n",
    "# sort by date\n",
    "df1_extra = df1_extra.sort_values(by=\"date\", ascending=False)"
   ]
  },
  {
   "cell_type": "code",
   "execution_count": 144,
   "metadata": {},
   "outputs": [],
   "source": [
    "# concatenate df1_extra and df2\n",
    "df = pd.concat([df1_extra, df2])"
   ]
  },
  {
   "cell_type": "code",
   "execution_count": 145,
   "metadata": {},
   "outputs": [
    {
     "data": {
      "text/html": [
       "<div>\n",
       "<style scoped>\n",
       "    .dataframe tbody tr th:only-of-type {\n",
       "        vertical-align: middle;\n",
       "    }\n",
       "\n",
       "    .dataframe tbody tr th {\n",
       "        vertical-align: top;\n",
       "    }\n",
       "\n",
       "    .dataframe thead th {\n",
       "        text-align: right;\n",
       "    }\n",
       "</style>\n",
       "<table border=\"1\" class=\"dataframe\">\n",
       "  <thead>\n",
       "    <tr style=\"text-align: right;\">\n",
       "      <th></th>\n",
       "      <th>url</th>\n",
       "      <th>title</th>\n",
       "      <th>date</th>\n",
       "      <th>article_text</th>\n",
       "    </tr>\n",
       "  </thead>\n",
       "  <tbody>\n",
       "    <tr>\n",
       "      <th>0</th>\n",
       "      <td>https://www.narendramodi.in/remarks-by-prime-m...</td>\n",
       "      <td>Remarks by Prime Minister, Shri Narendra Modi ...</td>\n",
       "      <td>2022-02-18</td>\n",
       "      <td>\\nYour Highness, My Brother,\\nA warm welcome ...</td>\n",
       "    </tr>\n",
       "    <tr>\n",
       "      <th>1</th>\n",
       "      <td>https://www.narendramodi.in/text-of-pm-s-addre...</td>\n",
       "      <td>Text of PM's address at inauguration of newly ...</td>\n",
       "      <td>2022-02-18</td>\n",
       "      <td>Namaskar!\\nMaharashtra Governor Shri Bhagat Si...</td>\n",
       "    </tr>\n",
       "    <tr>\n",
       "      <th>2</th>\n",
       "      <td>https://www.narendramodi.in/pm-s-inaugural-add...</td>\n",
       "      <td>Environmental sustainability can only be achie...</td>\n",
       "      <td>2022-02-16</td>\n",
       "      <td>I am delighted to join you at the Twenty First...</td>\n",
       "    </tr>\n",
       "    <tr>\n",
       "      <th>4</th>\n",
       "      <td>https://www.narendramodi.in/prime-minister-nar...</td>\n",
       "      <td>Remarks by Prime Minister Shri Narendra Modi a...</td>\n",
       "      <td>2022-02-11</td>\n",
       "      <td>I congratulate President Macron on this import...</td>\n",
       "    </tr>\n",
       "    <tr>\n",
       "      <th>3</th>\n",
       "      <td>https://www.narendramodi.in/text-of-prime-mini...</td>\n",
       "      <td>Azadi Ka Amrit Mahotsav is the perfect time to...</td>\n",
       "      <td>2022-02-07</td>\n",
       "      <td>Hon’ble Mr. Speaker,\\nI am here to reply on Mo...</td>\n",
       "    </tr>\n",
       "    <tr>\n",
       "      <th>...</th>\n",
       "      <td>...</td>\n",
       "      <td>...</td>\n",
       "      <td>...</td>\n",
       "      <td>...</td>\n",
       "    </tr>\n",
       "    <tr>\n",
       "      <th>906</th>\n",
       "      <td>https://www.pmindia.gov.in/en/news_updates/eng...</td>\n",
       "      <td>English rendering of text of Prime Minister’s ...</td>\n",
       "      <td>2014-11-02</td>\n",
       "      <td>My dear fellow countrymen, \\nI am with you aga...</td>\n",
       "    </tr>\n",
       "    <tr>\n",
       "      <th>907</th>\n",
       "      <td>https://www.pmindia.gov.in/en/news_updates/eng...</td>\n",
       "      <td>English rendering of text of PM’s address at “...</td>\n",
       "      <td>2014-10-31</td>\n",
       "      <td>Following is the English rendering of Prime Mi...</td>\n",
       "    </tr>\n",
       "    <tr>\n",
       "      <th>915</th>\n",
       "      <td>https://www.pmindia.gov.in/en/news_updates/pms...</td>\n",
       "      <td>PM’s remarks at the launch of the book Virat P...</td>\n",
       "      <td>2014-10-11</td>\n",
       "      <td>Prime Minister, Shri Narendra Modi, today laun...</td>\n",
       "    </tr>\n",
       "    <tr>\n",
       "      <th>918</th>\n",
       "      <td>https://www.pmindia.gov.in/en/news_updates/eng...</td>\n",
       "      <td>English rendering of text of PM’s first Mann K...</td>\n",
       "      <td>2014-10-03</td>\n",
       "      <td>My Dear Countrymen,\\nToday is the holy festiva...</td>\n",
       "    </tr>\n",
       "    <tr>\n",
       "      <th>921</th>\n",
       "      <td>https://www.pmindia.gov.in/en/news_updates/tex...</td>\n",
       "      <td>PM’s address to the Nation from the ramparts o...</td>\n",
       "      <td>2014-08-15</td>\n",
       "      <td>Prime Minister Shri Narendra Modi addressed th...</td>\n",
       "    </tr>\n",
       "  </tbody>\n",
       "</table>\n",
       "<p>850 rows × 4 columns</p>\n",
       "</div>"
      ],
      "text/plain": [
       "                                                   url  \\\n",
       "0    https://www.narendramodi.in/remarks-by-prime-m...   \n",
       "1    https://www.narendramodi.in/text-of-pm-s-addre...   \n",
       "2    https://www.narendramodi.in/pm-s-inaugural-add...   \n",
       "4    https://www.narendramodi.in/prime-minister-nar...   \n",
       "3    https://www.narendramodi.in/text-of-prime-mini...   \n",
       "..                                                 ...   \n",
       "906  https://www.pmindia.gov.in/en/news_updates/eng...   \n",
       "907  https://www.pmindia.gov.in/en/news_updates/eng...   \n",
       "915  https://www.pmindia.gov.in/en/news_updates/pms...   \n",
       "918  https://www.pmindia.gov.in/en/news_updates/eng...   \n",
       "921  https://www.pmindia.gov.in/en/news_updates/tex...   \n",
       "\n",
       "                                                 title       date  \\\n",
       "0    Remarks by Prime Minister, Shri Narendra Modi ... 2022-02-18   \n",
       "1    Text of PM's address at inauguration of newly ... 2022-02-18   \n",
       "2    Environmental sustainability can only be achie... 2022-02-16   \n",
       "4    Remarks by Prime Minister Shri Narendra Modi a... 2022-02-11   \n",
       "3    Azadi Ka Amrit Mahotsav is the perfect time to... 2022-02-07   \n",
       "..                                                 ...        ...   \n",
       "906  English rendering of text of Prime Minister’s ... 2014-11-02   \n",
       "907  English rendering of text of PM’s address at “... 2014-10-31   \n",
       "915  PM’s remarks at the launch of the book Virat P... 2014-10-11   \n",
       "918  English rendering of text of PM’s first Mann K... 2014-10-03   \n",
       "921  PM’s address to the Nation from the ramparts o... 2014-08-15   \n",
       "\n",
       "                                          article_text  \n",
       "0     \\nYour Highness, My Brother,\\nA warm welcome ...  \n",
       "1    Namaskar!\\nMaharashtra Governor Shri Bhagat Si...  \n",
       "2    I am delighted to join you at the Twenty First...  \n",
       "4    I congratulate President Macron on this import...  \n",
       "3    Hon’ble Mr. Speaker,\\nI am here to reply on Mo...  \n",
       "..                                                 ...  \n",
       "906  My dear fellow countrymen, \\nI am with you aga...  \n",
       "907  Following is the English rendering of Prime Mi...  \n",
       "915  Prime Minister, Shri Narendra Modi, today laun...  \n",
       "918  My Dear Countrymen,\\nToday is the holy festiva...  \n",
       "921  Prime Minister Shri Narendra Modi addressed th...  \n",
       "\n",
       "[850 rows x 4 columns]"
      ]
     },
     "execution_count": 145,
     "metadata": {},
     "output_type": "execute_result"
    }
   ],
   "source": [
    "df"
   ]
  },
  {
   "cell_type": "code",
   "execution_count": 146,
   "metadata": {},
   "outputs": [],
   "source": [
    "df.to_csv(\"data/india/modi_final.csv\", index=False)"
   ]
  },
  {
   "cell_type": "code",
   "execution_count": null,
   "metadata": {},
   "outputs": [],
   "source": []
  }
 ],
 "metadata": {
  "kernelspec": {
   "display_name": "Python 3.10.6 64-bit",
   "language": "python",
   "name": "python3"
  },
  "language_info": {
   "codemirror_mode": {
    "name": "ipython",
    "version": 3
   },
   "file_extension": ".py",
   "mimetype": "text/x-python",
   "name": "python",
   "nbconvert_exporter": "python",
   "pygments_lexer": "ipython3",
   "version": "3.10.6"
  },
  "orig_nbformat": 4,
  "vscode": {
   "interpreter": {
    "hash": "b0fa6594d8f4cbf19f97940f81e996739fb7646882a419484c72d19e05852a7e"
   }
  }
 },
 "nbformat": 4,
 "nbformat_minor": 2
}
