{
 "cells": [
  {
   "cell_type": "code",
   "execution_count": 42,
   "metadata": {},
   "outputs": [],
   "source": [
    "import requests\n",
    "import pandas as pd\n",
    "from bs4 import BeautifulSoup\n",
    "from tqdm import tqdm"
   ]
  },
  {
   "cell_type": "code",
   "execution_count": 5,
   "metadata": {},
   "outputs": [],
   "source": [
    "url = \"https://archivepmo.nic.in/drmanmohansingh/all-speeches.php\"\n",
    "base = \"https://archivepmo.nic.in/drmanmohansingh/\""
   ]
  },
  {
   "cell_type": "code",
   "execution_count": 3,
   "metadata": {},
   "outputs": [],
   "source": [
    "page = requests.get(url)\n",
    "soup = BeautifulSoup(page.content, 'html.parser')"
   ]
  },
  {
   "cell_type": "code",
   "execution_count": 8,
   "metadata": {},
   "outputs": [],
   "source": [
    "all_a = soup.find('div', class_='speechPan').find_all('a')\n",
    "links = [base + a['href'] for a in all_a]"
   ]
  },
  {
   "cell_type": "code",
   "execution_count": 10,
   "metadata": {},
   "outputs": [],
   "source": [
    "link = links[0]"
   ]
  },
  {
   "cell_type": "code",
   "execution_count": 11,
   "metadata": {},
   "outputs": [],
   "source": [
    "soup = BeautifulSoup(requests.get(link).content, 'html.parser')"
   ]
  },
  {
   "cell_type": "code",
   "execution_count": 12,
   "metadata": {},
   "outputs": [],
   "source": [
    "contentdiv = soup.find('div', class_='rt')"
   ]
  },
  {
   "cell_type": "code",
   "execution_count": 29,
   "metadata": {},
   "outputs": [],
   "source": [
    "content = contentdiv.find_all('p')\n",
    "all_text_list = [p.text.replace('\\r', '').replace('\\n', '').replace('\\t', '').replace('\\xa0', '') for p in content]\n",
    "all_text = ' '.join(all_text_list)"
   ]
  },
  {
   "cell_type": "code",
   "execution_count": 38,
   "metadata": {},
   "outputs": [],
   "source": [
    "date_string = soup.find('h2', class_='date').text"
   ]
  },
  {
   "cell_type": "code",
   "execution_count": 41,
   "metadata": {},
   "outputs": [
    {
     "data": {
      "text/plain": [
       "'May 17 2014'"
      ]
     },
     "execution_count": 41,
     "metadata": {},
     "output_type": "execute_result"
    }
   ],
   "source": [
    "month = date_string.split(' ')[0]\n",
    "date = date_string.split(' ')[1].replace(',', '')\n",
    "year = date_string.split(' ')[2]\n",
    "year = ''.join([c for c in year if c.isdigit()])\n",
    "date = month + ' ' + date + ' ' + year\n",
    "date"
   ]
  },
  {
   "cell_type": "code",
   "execution_count": 45,
   "metadata": {},
   "outputs": [],
   "source": [
    "all_data = {\"date\":[], \"text\":[]}"
   ]
  },
  {
   "cell_type": "code",
   "execution_count": 46,
   "metadata": {},
   "outputs": [
    {
     "name": "stderr",
     "output_type": "stream",
     "text": [
      "100%|██████████| 1401/1401 [04:35<00:00,  5.08it/s]\n"
     ]
    }
   ],
   "source": [
    "for link in tqdm(links):\n",
    "    soup = BeautifulSoup(requests.get(link).content, 'html.parser')\n",
    "    contentdiv = soup.find('div', class_='rt')\n",
    "    content = contentdiv.find_all('p')\n",
    "    all_text_list = [p.text.replace('\\r', '').replace('\\n', '').replace('\\t', '').replace('\\xa0', '') for p in content]\n",
    "    all_text = ' '.join(all_text_list)\n",
    "    date_string = soup.find('h2', class_='date').text\n",
    "    month = date_string.split(' ')[0]\n",
    "    date = date_string.split(' ')[1].replace(',', '')\n",
    "    year = date_string.split(' ')[2]\n",
    "    year = ''.join([c for c in year if c.isdigit()])\n",
    "    date = month + ' ' + date + ' ' + year\n",
    "    all_data['date'].append(date)\n",
    "    all_data['text'].append(all_text)"
   ]
  },
  {
   "cell_type": "code",
   "execution_count": 47,
   "metadata": {},
   "outputs": [],
   "source": [
    "df = pd.DataFrame(all_data)"
   ]
  },
  {
   "cell_type": "code",
   "execution_count": 49,
   "metadata": {},
   "outputs": [],
   "source": [
    "df.to_csv('data/india/manmohan.csv', index=False)"
   ]
  },
  {
   "cell_type": "code",
   "execution_count": null,
   "metadata": {},
   "outputs": [],
   "source": []
  }
 ],
 "metadata": {
  "kernelspec": {
   "display_name": "Python 3.10.6 64-bit",
   "language": "python",
   "name": "python3"
  },
  "language_info": {
   "codemirror_mode": {
    "name": "ipython",
    "version": 3
   },
   "file_extension": ".py",
   "mimetype": "text/x-python",
   "name": "python",
   "nbconvert_exporter": "python",
   "pygments_lexer": "ipython3",
   "version": "3.10.6"
  },
  "orig_nbformat": 4,
  "vscode": {
   "interpreter": {
    "hash": "b0fa6594d8f4cbf19f97940f81e996739fb7646882a419484c72d19e05852a7e"
   }
  }
 },
 "nbformat": 4,
 "nbformat_minor": 2
}
