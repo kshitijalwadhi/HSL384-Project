{
 "cells": [
  {
   "cell_type": "code",
   "execution_count": 2,
   "metadata": {},
   "outputs": [],
   "source": [
    "import pandas as pd\n",
    "import numpy as np\n",
    "from tqdm import tqdm"
   ]
  },
  {
   "cell_type": "code",
   "execution_count": 3,
   "metadata": {},
   "outputs": [],
   "source": [
    "df = pd.read_csv(\"data/usa/presidential_speeches.csv\")"
   ]
  },
  {
   "cell_type": "code",
   "execution_count": 4,
   "metadata": {},
   "outputs": [
    {
     "data": {
      "text/html": [
       "<div>\n",
       "<style scoped>\n",
       "    .dataframe tbody tr th:only-of-type {\n",
       "        vertical-align: middle;\n",
       "    }\n",
       "\n",
       "    .dataframe tbody tr th {\n",
       "        vertical-align: top;\n",
       "    }\n",
       "\n",
       "    .dataframe thead th {\n",
       "        text-align: right;\n",
       "    }\n",
       "</style>\n",
       "<table border=\"1\" class=\"dataframe\">\n",
       "  <thead>\n",
       "    <tr style=\"text-align: right;\">\n",
       "      <th></th>\n",
       "      <th>Date</th>\n",
       "      <th>President</th>\n",
       "      <th>Party</th>\n",
       "      <th>Speech Title</th>\n",
       "      <th>Summary</th>\n",
       "      <th>Transcript</th>\n",
       "      <th>URL</th>\n",
       "    </tr>\n",
       "  </thead>\n",
       "  <tbody>\n",
       "    <tr>\n",
       "      <th>987</th>\n",
       "      <td>2019-01-19</td>\n",
       "      <td>Donald Trump</td>\n",
       "      <td>Republican</td>\n",
       "      <td>Remarks about the US Southern Border</td>\n",
       "      <td>President Donald Trump speaks about what he se...</td>\n",
       "      <td>Just a short time ago, I had the honor of pres...</td>\n",
       "      <td>https://millercenter.org/the-presidency/presid...</td>\n",
       "    </tr>\n",
       "    <tr>\n",
       "      <th>988</th>\n",
       "      <td>2019-02-05</td>\n",
       "      <td>Donald Trump</td>\n",
       "      <td>Republican</td>\n",
       "      <td>State of the Union Address</td>\n",
       "      <td>In his second State of the Union Address, Pres...</td>\n",
       "      <td>Madam Speaker, Mr. Vice President, Members of ...</td>\n",
       "      <td>https://millercenter.org/the-presidency/presid...</td>\n",
       "    </tr>\n",
       "    <tr>\n",
       "      <th>989</th>\n",
       "      <td>2019-02-15</td>\n",
       "      <td>Donald Trump</td>\n",
       "      <td>Republican</td>\n",
       "      <td>Speech Declaring a National Emergency</td>\n",
       "      <td>President Donald Trump declares a national eme...</td>\n",
       "      <td>Thank you very much, everybody. Before we begi...</td>\n",
       "      <td>https://millercenter.org/the-presidency/presid...</td>\n",
       "    </tr>\n",
       "    <tr>\n",
       "      <th>990</th>\n",
       "      <td>2019-09-24</td>\n",
       "      <td>Donald Trump</td>\n",
       "      <td>Republican</td>\n",
       "      <td>Remarks at the United Nations General Assembly</td>\n",
       "      <td>President Donald Trump speaks to the 74th sess...</td>\n",
       "      <td>Thank you very much. Mr. President, Mr. Secret...</td>\n",
       "      <td>https://millercenter.org/the-presidency/presid...</td>\n",
       "    </tr>\n",
       "    <tr>\n",
       "      <th>991</th>\n",
       "      <td>2019-09-25</td>\n",
       "      <td>Donald Trump</td>\n",
       "      <td>Republican</td>\n",
       "      <td>Press Conference</td>\n",
       "      <td>President Donald Trump holds a press conferenc...</td>\n",
       "      <td>Thank you very much. Thank you. Well, thank yo...</td>\n",
       "      <td>https://millercenter.org/the-presidency/presid...</td>\n",
       "    </tr>\n",
       "  </tbody>\n",
       "</table>\n",
       "</div>"
      ],
      "text/plain": [
       "           Date     President       Party  \\\n",
       "987  2019-01-19  Donald Trump  Republican   \n",
       "988  2019-02-05  Donald Trump  Republican   \n",
       "989  2019-02-15  Donald Trump  Republican   \n",
       "990  2019-09-24  Donald Trump  Republican   \n",
       "991  2019-09-25  Donald Trump  Republican   \n",
       "\n",
       "                                       Speech Title  \\\n",
       "987            Remarks about the US Southern Border   \n",
       "988                      State of the Union Address   \n",
       "989           Speech Declaring a National Emergency   \n",
       "990  Remarks at the United Nations General Assembly   \n",
       "991                                Press Conference   \n",
       "\n",
       "                                               Summary  \\\n",
       "987  President Donald Trump speaks about what he se...   \n",
       "988  In his second State of the Union Address, Pres...   \n",
       "989  President Donald Trump declares a national eme...   \n",
       "990  President Donald Trump speaks to the 74th sess...   \n",
       "991  President Donald Trump holds a press conferenc...   \n",
       "\n",
       "                                            Transcript  \\\n",
       "987  Just a short time ago, I had the honor of pres...   \n",
       "988  Madam Speaker, Mr. Vice President, Members of ...   \n",
       "989  Thank you very much, everybody. Before we begi...   \n",
       "990  Thank you very much. Mr. President, Mr. Secret...   \n",
       "991  Thank you very much. Thank you. Well, thank yo...   \n",
       "\n",
       "                                                   URL  \n",
       "987  https://millercenter.org/the-presidency/presid...  \n",
       "988  https://millercenter.org/the-presidency/presid...  \n",
       "989  https://millercenter.org/the-presidency/presid...  \n",
       "990  https://millercenter.org/the-presidency/presid...  \n",
       "991  https://millercenter.org/the-presidency/presid...  "
      ]
     },
     "execution_count": 4,
     "metadata": {},
     "output_type": "execute_result"
    }
   ],
   "source": [
    "df[df[\"Date\"]>\"2019-01-01\"]"
   ]
  },
  {
   "cell_type": "code",
   "execution_count": 12,
   "metadata": {},
   "outputs": [],
   "source": [
    "from selenium import webdriver\n",
    "from selenium.webdriver.common.keys import Keys\n",
    "from bs4 import BeautifulSoup\n",
    "import time\n",
    "import requests"
   ]
  },
  {
   "cell_type": "code",
   "execution_count": 6,
   "metadata": {},
   "outputs": [
    {
     "name": "stderr",
     "output_type": "stream",
     "text": [
      "/var/folders/93/9kgm8vks4wz6zr8rg0d_pb7w0000gn/T/ipykernel_26786/3002165147.py:1: DeprecationWarning: executable_path has been deprecated, please pass in a Service object\n",
      "  driver = webdriver.Firefox(executable_path = '/usr/local/bin/geckodriver')\n"
     ]
    }
   ],
   "source": [
    "driver = webdriver.Firefox(executable_path = '/usr/local/bin/geckodriver')\n",
    "soup = BeautifulSoup(driver.page_source, 'html.parser')"
   ]
  },
  {
   "cell_type": "code",
   "execution_count": 7,
   "metadata": {},
   "outputs": [],
   "source": [
    "driver.get('https://millercenter.org/the-presidency/presidential-speeches')"
   ]
  },
  {
   "cell_type": "code",
   "execution_count": 8,
   "metadata": {},
   "outputs": [
    {
     "name": "stderr",
     "output_type": "stream",
     "text": [
      "100%|██████████| 150/150 [02:32<00:00,  1.01s/it]\n"
     ]
    }
   ],
   "source": [
    "for i in tqdm(range(150)):\n",
    "    #Scroll\n",
    "    driver.execute_script(\n",
    "        \"window.scrollTo(0, document.documentElement.scrollHeight);\" #Alternatively, document.body.scrollHeight\n",
    "    )\n",
    "    \n",
    "    #Wait for page to load\n",
    "    time.sleep(1)"
   ]
  },
  {
   "cell_type": "code",
   "execution_count": 9,
   "metadata": {},
   "outputs": [],
   "source": [
    "speeches = []\n",
    "\n",
    "soup1 = BeautifulSoup(driver.page_source, 'html.parser')\n",
    "rows1 = soup1.find_all('div', class_ = 'views-row')\n",
    "for x in rows1:\n",
    "    endings = x.find('a')['href'][38:]\n",
    "    speeches.append(endings)"
   ]
  },
  {
   "cell_type": "code",
   "execution_count": 24,
   "metadata": {},
   "outputs": [
    {
     "name": "stderr",
     "output_type": "stream",
     "text": [
      "  4%|▍         | 41/1033 [02:08<52:01,  3.15s/it] \n"
     ]
    }
   ],
   "source": [
    "base_url = 'https://millercenter.org/the-presidency/presidential-speeches/'\n",
    "presidents = {}\n",
    "for i in tqdm(speeches):\n",
    "    full_url = base_url + i\n",
    "    response_all = requests.get(full_url)\n",
    "    soup_all = BeautifulSoup(response_all.text,'html.parser')\n",
    "    name = soup_all.find(class_ = 'president-name').text\n",
    "    date = soup_all.find(class_ = 'episode-date').text\n",
    "    if date == \"September 25, 2019\":\n",
    "        break\n",
    "    transcript = soup_all.find(class_=\"view-transcript\").text  \n",
    "    \n",
    "    presidents[i] = [name] + [date] + [transcript]\n"
   ]
  },
  {
   "cell_type": "code",
   "execution_count": 25,
   "metadata": {},
   "outputs": [
    {
     "data": {
      "text/html": [
       "<div>\n",
       "<style scoped>\n",
       "    .dataframe tbody tr th:only-of-type {\n",
       "        vertical-align: middle;\n",
       "    }\n",
       "\n",
       "    .dataframe tbody tr th {\n",
       "        vertical-align: top;\n",
       "    }\n",
       "\n",
       "    .dataframe thead th {\n",
       "        text-align: right;\n",
       "    }\n",
       "</style>\n",
       "<table border=\"1\" class=\"dataframe\">\n",
       "  <thead>\n",
       "    <tr style=\"text-align: right;\">\n",
       "      <th></th>\n",
       "      <th>President</th>\n",
       "      <th>Date</th>\n",
       "      <th>Speech</th>\n",
       "    </tr>\n",
       "  </thead>\n",
       "  <tbody>\n",
       "    <tr>\n",
       "      <th>january-8-2020-statement-iran</th>\n",
       "      <td>Donald Trump</td>\n",
       "      <td>January 08, 2020</td>\n",
       "      <td>\\n\\n\\nView Transcript\\n      \\n\\n\\n\\n\\nTranscr...</td>\n",
       "    </tr>\n",
       "    <tr>\n",
       "      <th>january-3-2020-remarks-killing-qasem-soleimani</th>\n",
       "      <td>Donald Trump</td>\n",
       "      <td>January 03, 2020</td>\n",
       "      <td>\\n\\n\\nView Transcript\\n      \\n\\n\\n\\n\\nTranscr...</td>\n",
       "    </tr>\n",
       "    <tr>\n",
       "      <th>october-27-2019-statement-death-abu-bakr-al-baghdadi</th>\n",
       "      <td>Donald Trump</td>\n",
       "      <td>October 27, 2019</td>\n",
       "      <td>\\n\\n\\nView Transcript\\n      \\n\\n\\n\\n\\nTranscr...</td>\n",
       "    </tr>\n",
       "  </tbody>\n",
       "</table>\n",
       "</div>"
      ],
      "text/plain": [
       "                                                       President  \\\n",
       "january-8-2020-statement-iran                       Donald Trump   \n",
       "january-3-2020-remarks-killing-qasem-soleimani      Donald Trump   \n",
       "october-27-2019-statement-death-abu-bakr-al-bag...  Donald Trump   \n",
       "\n",
       "                                                                Date  \\\n",
       "january-8-2020-statement-iran                       January 08, 2020   \n",
       "january-3-2020-remarks-killing-qasem-soleimani      January 03, 2020   \n",
       "october-27-2019-statement-death-abu-bakr-al-bag...  October 27, 2019   \n",
       "\n",
       "                                                                                               Speech  \n",
       "january-8-2020-statement-iran                       \\n\\n\\nView Transcript\\n      \\n\\n\\n\\n\\nTranscr...  \n",
       "january-3-2020-remarks-killing-qasem-soleimani      \\n\\n\\nView Transcript\\n      \\n\\n\\n\\n\\nTranscr...  \n",
       "october-27-2019-statement-death-abu-bakr-al-bag...  \\n\\n\\nView Transcript\\n      \\n\\n\\n\\n\\nTranscr...  "
      ]
     },
     "execution_count": 25,
     "metadata": {},
     "output_type": "execute_result"
    }
   ],
   "source": [
    "df_dict = pd.DataFrame(presidents)\n",
    "df_uva = df_dict.T\n",
    "df_uva.columns = ['President', 'Date', 'Speech']\n",
    "df_uva.tail(3)"
   ]
  },
  {
   "cell_type": "code",
   "execution_count": 27,
   "metadata": {},
   "outputs": [],
   "source": [
    "def clean(text):\n",
    "    text = text.replace(\"\\n\\n\\nView Transcript\\n      \\n\\n\\n\\n\\nTranscript\\n\", \"\")\n",
    "    text = text.replace(\"\\r\", \"\").replace(\"\\n\", \" \").replace(\"\\t\", \" \").replace(\"\\xa0\", \"\")\n",
    "    text = text.replace(\"\")\n",
    "    return text"
   ]
  },
  {
   "cell_type": "code",
   "execution_count": 28,
   "metadata": {},
   "outputs": [],
   "source": [
    "df_uva['Speech'] = df_uva['Speech'].apply(clean)"
   ]
  },
  {
   "cell_type": "code",
   "execution_count": 30,
   "metadata": {},
   "outputs": [],
   "source": [
    "df = pd.read_csv(\"data/usa/presidential_speeches.csv\")"
   ]
  },
  {
   "cell_type": "code",
   "execution_count": 33,
   "metadata": {},
   "outputs": [],
   "source": [
    "df = df[[\"President\", \"Date\", \"Transcript\"]]"
   ]
  },
  {
   "cell_type": "code",
   "execution_count": 34,
   "metadata": {},
   "outputs": [
    {
     "data": {
      "text/html": [
       "<div>\n",
       "<style scoped>\n",
       "    .dataframe tbody tr th:only-of-type {\n",
       "        vertical-align: middle;\n",
       "    }\n",
       "\n",
       "    .dataframe tbody tr th {\n",
       "        vertical-align: top;\n",
       "    }\n",
       "\n",
       "    .dataframe thead th {\n",
       "        text-align: right;\n",
       "    }\n",
       "</style>\n",
       "<table border=\"1\" class=\"dataframe\">\n",
       "  <thead>\n",
       "    <tr style=\"text-align: right;\">\n",
       "      <th></th>\n",
       "      <th>President</th>\n",
       "      <th>Date</th>\n",
       "      <th>Transcript</th>\n",
       "    </tr>\n",
       "  </thead>\n",
       "  <tbody>\n",
       "    <tr>\n",
       "      <th>0</th>\n",
       "      <td>George Washington</td>\n",
       "      <td>1789-04-30</td>\n",
       "      <td>Fellow Citizens of the Senate and the House of...</td>\n",
       "    </tr>\n",
       "    <tr>\n",
       "      <th>1</th>\n",
       "      <td>George Washington</td>\n",
       "      <td>1789-10-03</td>\n",
       "      <td>Whereas it is the duty of all Nations to ackno...</td>\n",
       "    </tr>\n",
       "    <tr>\n",
       "      <th>2</th>\n",
       "      <td>George Washington</td>\n",
       "      <td>1790-01-08</td>\n",
       "      <td>Fellow Citizens of the Senate and House of Rep...</td>\n",
       "    </tr>\n",
       "    <tr>\n",
       "      <th>3</th>\n",
       "      <td>George Washington</td>\n",
       "      <td>1790-12-08</td>\n",
       "      <td>Fellow citizens of the Senate and House of Rep...</td>\n",
       "    </tr>\n",
       "    <tr>\n",
       "      <th>4</th>\n",
       "      <td>George Washington</td>\n",
       "      <td>1790-12-29</td>\n",
       "      <td>I the President of the United States, by my ow...</td>\n",
       "    </tr>\n",
       "    <tr>\n",
       "      <th>...</th>\n",
       "      <td>...</td>\n",
       "      <td>...</td>\n",
       "      <td>...</td>\n",
       "    </tr>\n",
       "    <tr>\n",
       "      <th>987</th>\n",
       "      <td>Donald Trump</td>\n",
       "      <td>2019-01-19</td>\n",
       "      <td>Just a short time ago, I had the honor of pres...</td>\n",
       "    </tr>\n",
       "    <tr>\n",
       "      <th>988</th>\n",
       "      <td>Donald Trump</td>\n",
       "      <td>2019-02-05</td>\n",
       "      <td>Madam Speaker, Mr. Vice President, Members of ...</td>\n",
       "    </tr>\n",
       "    <tr>\n",
       "      <th>989</th>\n",
       "      <td>Donald Trump</td>\n",
       "      <td>2019-02-15</td>\n",
       "      <td>Thank you very much, everybody. Before we begi...</td>\n",
       "    </tr>\n",
       "    <tr>\n",
       "      <th>990</th>\n",
       "      <td>Donald Trump</td>\n",
       "      <td>2019-09-24</td>\n",
       "      <td>Thank you very much. Mr. President, Mr. Secret...</td>\n",
       "    </tr>\n",
       "    <tr>\n",
       "      <th>991</th>\n",
       "      <td>Donald Trump</td>\n",
       "      <td>2019-09-25</td>\n",
       "      <td>Thank you very much. Thank you. Well, thank yo...</td>\n",
       "    </tr>\n",
       "  </tbody>\n",
       "</table>\n",
       "<p>992 rows × 3 columns</p>\n",
       "</div>"
      ],
      "text/plain": [
       "             President        Date  \\\n",
       "0    George Washington  1789-04-30   \n",
       "1    George Washington  1789-10-03   \n",
       "2    George Washington  1790-01-08   \n",
       "3    George Washington  1790-12-08   \n",
       "4    George Washington  1790-12-29   \n",
       "..                 ...         ...   \n",
       "987       Donald Trump  2019-01-19   \n",
       "988       Donald Trump  2019-02-05   \n",
       "989       Donald Trump  2019-02-15   \n",
       "990       Donald Trump  2019-09-24   \n",
       "991       Donald Trump  2019-09-25   \n",
       "\n",
       "                                            Transcript  \n",
       "0    Fellow Citizens of the Senate and the House of...  \n",
       "1    Whereas it is the duty of all Nations to ackno...  \n",
       "2    Fellow Citizens of the Senate and House of Rep...  \n",
       "3    Fellow citizens of the Senate and House of Rep...  \n",
       "4    I the President of the United States, by my ow...  \n",
       "..                                                 ...  \n",
       "987  Just a short time ago, I had the honor of pres...  \n",
       "988  Madam Speaker, Mr. Vice President, Members of ...  \n",
       "989  Thank you very much, everybody. Before we begi...  \n",
       "990  Thank you very much. Mr. President, Mr. Secret...  \n",
       "991  Thank you very much. Thank you. Well, thank yo...  \n",
       "\n",
       "[992 rows x 3 columns]"
      ]
     },
     "execution_count": 34,
     "metadata": {},
     "output_type": "execute_result"
    }
   ],
   "source": [
    "df"
   ]
  },
  {
   "cell_type": "code",
   "execution_count": 39,
   "metadata": {},
   "outputs": [],
   "source": [
    "# reverse df\n",
    "df = df.iloc[::-1]"
   ]
  },
  {
   "cell_type": "code",
   "execution_count": 35,
   "metadata": {},
   "outputs": [],
   "source": [
    "df_uva = df_uva[[\"President\", \"Date\", \"Speech\"]]\n",
    "df_uva.rename(columns = {'Speech':'Transcript'}, inplace = True)"
   ]
  },
  {
   "cell_type": "code",
   "execution_count": 37,
   "metadata": {},
   "outputs": [],
   "source": [
    "df_uva.reset_index(drop=True, inplace=True)"
   ]
  },
  {
   "cell_type": "code",
   "execution_count": 41,
   "metadata": {},
   "outputs": [
    {
     "data": {
      "text/html": [
       "<div>\n",
       "<style scoped>\n",
       "    .dataframe tbody tr th:only-of-type {\n",
       "        vertical-align: middle;\n",
       "    }\n",
       "\n",
       "    .dataframe tbody tr th {\n",
       "        vertical-align: top;\n",
       "    }\n",
       "\n",
       "    .dataframe thead th {\n",
       "        text-align: right;\n",
       "    }\n",
       "</style>\n",
       "<table border=\"1\" class=\"dataframe\">\n",
       "  <thead>\n",
       "    <tr style=\"text-align: right;\">\n",
       "      <th></th>\n",
       "      <th>President</th>\n",
       "      <th>Date</th>\n",
       "      <th>Transcript</th>\n",
       "    </tr>\n",
       "  </thead>\n",
       "  <tbody>\n",
       "    <tr>\n",
       "      <th>0</th>\n",
       "      <td>Joe Biden</td>\n",
       "      <td>September 01, 2022</td>\n",
       "      <td>THE PRESIDENT: My fellow Americans, please, if...</td>\n",
       "    </tr>\n",
       "    <tr>\n",
       "      <th>1</th>\n",
       "      <td>Joe Biden</td>\n",
       "      <td>May 24, 2022</td>\n",
       "      <td>Good evening, fellow Americans. I had hoped, w...</td>\n",
       "    </tr>\n",
       "    <tr>\n",
       "      <th>2</th>\n",
       "      <td>Joe Biden</td>\n",
       "      <td>March 26, 2022</td>\n",
       "      <td>THE PRESIDENT: Thank you, thank you, thank you...</td>\n",
       "    </tr>\n",
       "    <tr>\n",
       "      <th>3</th>\n",
       "      <td>Joe Biden</td>\n",
       "      <td>March 01, 2022</td>\n",
       "      <td>SPEAKER OF THE HOUSE NANCY PELOSI: Members of ...</td>\n",
       "    </tr>\n",
       "    <tr>\n",
       "      <th>4</th>\n",
       "      <td>Joe Biden</td>\n",
       "      <td>February 24, 2022</td>\n",
       "      <td>THE PRESIDENT: Sorry to keep you waiting. Good...</td>\n",
       "    </tr>\n",
       "  </tbody>\n",
       "</table>\n",
       "</div>"
      ],
      "text/plain": [
       "   President                Date  \\\n",
       "0  Joe Biden  September 01, 2022   \n",
       "1  Joe Biden        May 24, 2022   \n",
       "2  Joe Biden      March 26, 2022   \n",
       "3  Joe Biden      March 01, 2022   \n",
       "4  Joe Biden   February 24, 2022   \n",
       "\n",
       "                                          Transcript  \n",
       "0  THE PRESIDENT: My fellow Americans, please, if...  \n",
       "1  Good evening, fellow Americans. I had hoped, w...  \n",
       "2  THE PRESIDENT: Thank you, thank you, thank you...  \n",
       "3  SPEAKER OF THE HOUSE NANCY PELOSI: Members of ...  \n",
       "4  THE PRESIDENT: Sorry to keep you waiting. Good...  "
      ]
     },
     "execution_count": 41,
     "metadata": {},
     "output_type": "execute_result"
    }
   ],
   "source": [
    "df_uva.head()"
   ]
  },
  {
   "cell_type": "code",
   "execution_count": 44,
   "metadata": {},
   "outputs": [],
   "source": [
    "def get_month(month):\n",
    "    month = month.lower()\n",
    "    if month == \"january\" or month == \"jan\":\n",
    "        return \"01\"\n",
    "    elif month == \"february\" or month == \"feb\":\n",
    "        return \"02\"\n",
    "    elif month == \"march\" or month == \"mar\":\n",
    "        return \"03\"\n",
    "    elif month == \"april\" or month == \"apr\":\n",
    "        return \"04\"\n",
    "    elif month == \"may\":\n",
    "        return \"05\"\n",
    "    elif month == \"june\" or month == \"jun\":\n",
    "        return \"06\"\n",
    "    elif month == \"july\" or month == \"jul\":\n",
    "        return \"07\"\n",
    "    elif month == \"august\" or month == \"aug\":\n",
    "        return \"08\"\n",
    "    elif month == \"september\" or month == \"sep\":\n",
    "        return \"09\"\n",
    "    elif month == \"october\" or month == \"oct\":\n",
    "        return \"10\"\n",
    "    elif month == \"november\" or month == \"nov\":\n",
    "        return \"11\"\n",
    "    elif month == \"december\" or month == \"dec\":\n",
    "        return \"12\"\n",
    "    else:\n",
    "        return \"01\"\n",
    "\n",
    "\n",
    "def parse_date(date):\n",
    "    month = date.split(\" \")[0]\n",
    "    day = date.split(\" \")[1].split(\",\")[0]\n",
    "    year = date.split(\" \")[2]\n",
    "\n",
    "    month = get_month(month)\n",
    "    day = day.zfill(2)\n",
    "\n",
    "    return f\"{day}/{month}/{year}\""
   ]
  },
  {
   "cell_type": "code",
   "execution_count": 45,
   "metadata": {},
   "outputs": [],
   "source": [
    "df_uva[\"Date\"] = df_uva[\"Date\"].apply(parse_date)"
   ]
  },
  {
   "cell_type": "code",
   "execution_count": 50,
   "metadata": {},
   "outputs": [],
   "source": [
    "df_uva[\"Date\"] = pd.to_datetime(df_uva[\"Date\"], format=\"%d/%m/%Y\")"
   ]
  },
  {
   "cell_type": "code",
   "execution_count": 51,
   "metadata": {},
   "outputs": [],
   "source": [
    "final_df = pd.concat([df_uva, df], axis=0)\n",
    "final_df.reset_index(drop=True, inplace=True)"
   ]
  },
  {
   "cell_type": "code",
   "execution_count": 52,
   "metadata": {},
   "outputs": [
    {
     "data": {
      "text/html": [
       "<div>\n",
       "<style scoped>\n",
       "    .dataframe tbody tr th:only-of-type {\n",
       "        vertical-align: middle;\n",
       "    }\n",
       "\n",
       "    .dataframe tbody tr th {\n",
       "        vertical-align: top;\n",
       "    }\n",
       "\n",
       "    .dataframe thead th {\n",
       "        text-align: right;\n",
       "    }\n",
       "</style>\n",
       "<table border=\"1\" class=\"dataframe\">\n",
       "  <thead>\n",
       "    <tr style=\"text-align: right;\">\n",
       "      <th></th>\n",
       "      <th>President</th>\n",
       "      <th>Date</th>\n",
       "      <th>Transcript</th>\n",
       "    </tr>\n",
       "  </thead>\n",
       "  <tbody>\n",
       "    <tr>\n",
       "      <th>0</th>\n",
       "      <td>Joe Biden</td>\n",
       "      <td>2022-09-01 00:00:00</td>\n",
       "      <td>THE PRESIDENT: My fellow Americans, please, if...</td>\n",
       "    </tr>\n",
       "    <tr>\n",
       "      <th>1</th>\n",
       "      <td>Joe Biden</td>\n",
       "      <td>2022-05-24 00:00:00</td>\n",
       "      <td>Good evening, fellow Americans. I had hoped, w...</td>\n",
       "    </tr>\n",
       "    <tr>\n",
       "      <th>2</th>\n",
       "      <td>Joe Biden</td>\n",
       "      <td>2022-03-26 00:00:00</td>\n",
       "      <td>THE PRESIDENT: Thank you, thank you, thank you...</td>\n",
       "    </tr>\n",
       "    <tr>\n",
       "      <th>3</th>\n",
       "      <td>Joe Biden</td>\n",
       "      <td>2022-03-01 00:00:00</td>\n",
       "      <td>SPEAKER OF THE HOUSE NANCY PELOSI: Members of ...</td>\n",
       "    </tr>\n",
       "    <tr>\n",
       "      <th>4</th>\n",
       "      <td>Joe Biden</td>\n",
       "      <td>2022-02-24 00:00:00</td>\n",
       "      <td>THE PRESIDENT: Sorry to keep you waiting. Good...</td>\n",
       "    </tr>\n",
       "    <tr>\n",
       "      <th>...</th>\n",
       "      <td>...</td>\n",
       "      <td>...</td>\n",
       "      <td>...</td>\n",
       "    </tr>\n",
       "    <tr>\n",
       "      <th>1028</th>\n",
       "      <td>George Washington</td>\n",
       "      <td>1790-12-29</td>\n",
       "      <td>I the President of the United States, by my ow...</td>\n",
       "    </tr>\n",
       "    <tr>\n",
       "      <th>1029</th>\n",
       "      <td>George Washington</td>\n",
       "      <td>1790-12-08</td>\n",
       "      <td>Fellow citizens of the Senate and House of Rep...</td>\n",
       "    </tr>\n",
       "    <tr>\n",
       "      <th>1030</th>\n",
       "      <td>George Washington</td>\n",
       "      <td>1790-01-08</td>\n",
       "      <td>Fellow Citizens of the Senate and House of Rep...</td>\n",
       "    </tr>\n",
       "    <tr>\n",
       "      <th>1031</th>\n",
       "      <td>George Washington</td>\n",
       "      <td>1789-10-03</td>\n",
       "      <td>Whereas it is the duty of all Nations to ackno...</td>\n",
       "    </tr>\n",
       "    <tr>\n",
       "      <th>1032</th>\n",
       "      <td>George Washington</td>\n",
       "      <td>1789-04-30</td>\n",
       "      <td>Fellow Citizens of the Senate and the House of...</td>\n",
       "    </tr>\n",
       "  </tbody>\n",
       "</table>\n",
       "<p>1033 rows × 3 columns</p>\n",
       "</div>"
      ],
      "text/plain": [
       "              President                 Date  \\\n",
       "0             Joe Biden  2022-09-01 00:00:00   \n",
       "1             Joe Biden  2022-05-24 00:00:00   \n",
       "2             Joe Biden  2022-03-26 00:00:00   \n",
       "3             Joe Biden  2022-03-01 00:00:00   \n",
       "4             Joe Biden  2022-02-24 00:00:00   \n",
       "...                 ...                  ...   \n",
       "1028  George Washington           1790-12-29   \n",
       "1029  George Washington           1790-12-08   \n",
       "1030  George Washington           1790-01-08   \n",
       "1031  George Washington           1789-10-03   \n",
       "1032  George Washington           1789-04-30   \n",
       "\n",
       "                                             Transcript  \n",
       "0     THE PRESIDENT: My fellow Americans, please, if...  \n",
       "1     Good evening, fellow Americans. I had hoped, w...  \n",
       "2     THE PRESIDENT: Thank you, thank you, thank you...  \n",
       "3     SPEAKER OF THE HOUSE NANCY PELOSI: Members of ...  \n",
       "4     THE PRESIDENT: Sorry to keep you waiting. Good...  \n",
       "...                                                 ...  \n",
       "1028  I the President of the United States, by my ow...  \n",
       "1029  Fellow citizens of the Senate and House of Rep...  \n",
       "1030  Fellow Citizens of the Senate and House of Rep...  \n",
       "1031  Whereas it is the duty of all Nations to ackno...  \n",
       "1032  Fellow Citizens of the Senate and the House of...  \n",
       "\n",
       "[1033 rows x 3 columns]"
      ]
     },
     "execution_count": 52,
     "metadata": {},
     "output_type": "execute_result"
    }
   ],
   "source": [
    "final_df"
   ]
  },
  {
   "cell_type": "code",
   "execution_count": 53,
   "metadata": {},
   "outputs": [],
   "source": [
    "final_df.to_csv(\"data/usa/final_presidential_speeches.csv\", index=False)"
   ]
  },
  {
   "cell_type": "code",
   "execution_count": null,
   "metadata": {},
   "outputs": [],
   "source": []
  }
 ],
 "metadata": {
  "kernelspec": {
   "display_name": "Python 3.10.6 64-bit",
   "language": "python",
   "name": "python3"
  },
  "language_info": {
   "codemirror_mode": {
    "name": "ipython",
    "version": 3
   },
   "file_extension": ".py",
   "mimetype": "text/x-python",
   "name": "python",
   "nbconvert_exporter": "python",
   "pygments_lexer": "ipython3",
   "version": "3.10.6"
  },
  "orig_nbformat": 4,
  "vscode": {
   "interpreter": {
    "hash": "b0fa6594d8f4cbf19f97940f81e996739fb7646882a419484c72d19e05852a7e"
   }
  }
 },
 "nbformat": 4,
 "nbformat_minor": 2
}
